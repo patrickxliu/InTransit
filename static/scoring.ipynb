{
 "cells": [
  {
   "cell_type": "code",
   "execution_count": null,
   "metadata": {},
   "outputs": [],
   "source": [
    "import json\n",
    "import geopandas\n",
    "import pandas as pd"
   ]
  },
  {
   "cell_type": "code",
   "execution_count": 4,
   "metadata": {},
   "outputs": [],
   "source": [
    "df = geopandas.read_file(\"final_station_info.geojson\") "
   ]
  },
  {
   "cell_type": "code",
   "execution_count": 21,
   "metadata": {},
   "outputs": [],
   "source": [
    "df['etod_sub4z'] = pd.to_numeric(pd.qcut(df['zoned']-df['actual'], 5, labels = [1,2,3,4,5]))"
   ]
  },
  {
   "cell_type": "code",
   "execution_count": 26,
   "metadata": {},
   "outputs": [],
   "source": [
    "df['etod'] = df['etod_sub1t'] + df['etod_sub2o'] + df['etod_sub3d']\n",
    "df['etod_zone'] = df['etod_sub1t'] + df['etod_sub2o'] + df['etod_sub3d'] + df['etod_sub4z']"
   ]
  },
  {
   "cell_type": "code",
   "execution_count": 37,
   "metadata": {},
   "outputs": [
    {
     "data": {
      "text/plain": [
       "{'South Station'}"
      ]
     },
     "execution_count": 37,
     "metadata": {},
     "output_type": "execute_result"
    }
   ],
   "source": [
    "# df[df['stop_name'].isin(\n",
    "set(df.sort_values('etod', ascending=False).iloc[:10]['stop_name']).intersection(df.sort_values('etod_sub4z', ascending=False).iloc[:10]['stop_name'])\n",
    "# )]"
   ]
  },
  {
   "cell_type": "code",
   "execution_count": 39,
   "metadata": {},
   "outputs": [
    {
     "data": {
      "text/plain": [
       "214                   Symphony\n",
       "149                  Newmarket\n",
       "218       Tufts Medical Center\n",
       "106    Hynes Convention Center\n",
       "162    Northeastern University\n",
       "169                Park Street\n",
       "67           Downtown Crossing\n",
       "26            Blandford Street\n",
       "130       Massachusetts Avenue\n",
       "202              South Station\n",
       "75                      Fenway\n",
       "172                 Prudential\n",
       "33                    Boylston\n",
       "57                   Chinatown\n",
       "201              South Station\n",
       "114                    Kenmore\n",
       "32                     Bowdoin\n",
       "206                      State\n",
       "142        Museum of Fine Arts\n",
       "159              North Station\n",
       "Name: stop_name, dtype: object"
      ]
     },
     "execution_count": 39,
     "metadata": {},
     "output_type": "execute_result"
    }
   ],
   "source": [
    "df.sort_values('etod_zone', ascending=False).iloc[:20]['stop_name']"
   ]
  },
  {
   "cell_type": "code",
   "execution_count": 22,
   "metadata": {},
   "outputs": [],
   "source": [
    "df.to_file('final_station_info2.geojson')"
   ]
  },
  {
   "cell_type": "code",
   "execution_count": null,
   "metadata": {},
   "outputs": [],
   "source": []
  }
 ],
 "metadata": {
  "kernelspec": {
   "display_name": "base",
   "language": "python",
   "name": "python3"
  },
  "language_info": {
   "codemirror_mode": {
    "name": "ipython",
    "version": 3
   },
   "file_extension": ".py",
   "mimetype": "text/x-python",
   "name": "python",
   "nbconvert_exporter": "python",
   "pygments_lexer": "ipython3",
   "version": "3.8.8"
  }
 },
 "nbformat": 4,
 "nbformat_minor": 2
}
