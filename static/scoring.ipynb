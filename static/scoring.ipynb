{
 "cells": [
  {
   "cell_type": "code",
   "execution_count": 53,
   "metadata": {},
   "outputs": [],
   "source": [
    "import json\n",
    "import geopandas\n",
    "import pandas as pd"
   ]
  },
  {
   "cell_type": "code",
   "execution_count": 84,
   "metadata": {},
   "outputs": [],
   "source": [
    "df = geopandas.read_file(\"final_station_info.geojson\") "
   ]
  },
  {
   "cell_type": "code",
   "execution_count": 85,
   "metadata": {},
   "outputs": [],
   "source": [
    "df2 = df[(df['zoned']!=0)&(df['actual']!=0)]\n",
    "df3 = df[(df['zoned']==0)|(df['actual']==0)]"
   ]
  },
  {
   "cell_type": "code",
   "execution_count": 86,
   "metadata": {},
   "outputs": [
    {
     "name": "stderr",
     "output_type": "stream",
     "text": [
      "/Users/emilygan/opt/anaconda3/lib/python3.8/site-packages/geopandas/geodataframe.py:1538: SettingWithCopyWarning: \n",
      "A value is trying to be set on a copy of a slice from a DataFrame.\n",
      "Try using .loc[row_indexer,col_indexer] = value instead\n",
      "\n",
      "See the caveats in the documentation: https://pandas.pydata.org/pandas-docs/stable/user_guide/indexing.html#returning-a-view-versus-a-copy\n",
      "  super().__setitem__(key, value)\n",
      "/Users/emilygan/opt/anaconda3/lib/python3.8/site-packages/geopandas/geodataframe.py:1538: SettingWithCopyWarning: \n",
      "A value is trying to be set on a copy of a slice from a DataFrame.\n",
      "Try using .loc[row_indexer,col_indexer] = value instead\n",
      "\n",
      "See the caveats in the documentation: https://pandas.pydata.org/pandas-docs/stable/user_guide/indexing.html#returning-a-view-versus-a-copy\n",
      "  super().__setitem__(key, value)\n"
     ]
    }
   ],
   "source": [
    "df2['etod_sub4z'] = pd.to_numeric(pd.qcut(df2['zoned']-df2['actual'], 5, labels = [1,2,3,4,5]))\n",
    "df3['etod_sub4z'] = 0"
   ]
  },
  {
   "cell_type": "code",
   "execution_count": 88,
   "metadata": {},
   "outputs": [],
   "source": [
    "df = pd.concat([df2,df3])"
   ]
  },
  {
   "cell_type": "code",
   "execution_count": 89,
   "metadata": {},
   "outputs": [],
   "source": [
    "df['etod_sub1t'] =  round(df['etod_sub1t']/15*25)\n",
    "df['etod_sub2o'] = round(df['etod_sub2o']/20*25)\n",
    "df['etod_sub3d'] = round(df['etod_sub3d']/15*25)\n",
    "df['etod_sub4z'] = round(df['etod_sub4z']/5*25)"
   ]
  },
  {
   "cell_type": "code",
   "execution_count": 90,
   "metadata": {},
   "outputs": [],
   "source": [
    "df['etod'] = df['etod_sub1t'] + df['etod_sub2o'] + df['etod_sub3d']\n",
    "df['etod_zone'] = df['etod_sub1t'] + df['etod_sub2o'] + df['etod_sub3d'] + df['etod_sub4z']"
   ]
  },
  {
   "cell_type": "code",
   "execution_count": 91,
   "metadata": {},
   "outputs": [
    {
     "data": {
      "text/plain": [
       "count    256.000000\n",
       "mean      52.679688\n",
       "std       27.071708\n",
       "min        0.000000\n",
       "25%       28.000000\n",
       "50%       49.000000\n",
       "75%       77.000000\n",
       "max      100.000000\n",
       "Name: etod_zone, dtype: float64"
      ]
     },
     "execution_count": 91,
     "metadata": {},
     "output_type": "execute_result"
    }
   ],
   "source": [
    "df['etod_zone'].describe()"
   ]
  },
  {
   "cell_type": "code",
   "execution_count": 37,
   "metadata": {},
   "outputs": [
    {
     "data": {
      "text/plain": [
       "{'South Station'}"
      ]
     },
     "execution_count": 37,
     "metadata": {},
     "output_type": "execute_result"
    }
   ],
   "source": [
    "# df[df['stop_name'].isin(\n",
    "set(df.sort_values('etod', ascending=False).iloc[:10]['stop_name']).intersection(df.sort_values('etod_sub4z', ascending=False).iloc[:10]['stop_name'])\n",
    "# )]"
   ]
  },
  {
   "cell_type": "code",
   "execution_count": 39,
   "metadata": {},
   "outputs": [
    {
     "data": {
      "text/plain": [
       "214                   Symphony\n",
       "149                  Newmarket\n",
       "218       Tufts Medical Center\n",
       "106    Hynes Convention Center\n",
       "162    Northeastern University\n",
       "169                Park Street\n",
       "67           Downtown Crossing\n",
       "26            Blandford Street\n",
       "130       Massachusetts Avenue\n",
       "202              South Station\n",
       "75                      Fenway\n",
       "172                 Prudential\n",
       "33                    Boylston\n",
       "57                   Chinatown\n",
       "201              South Station\n",
       "114                    Kenmore\n",
       "32                     Bowdoin\n",
       "206                      State\n",
       "142        Museum of Fine Arts\n",
       "159              North Station\n",
       "Name: stop_name, dtype: object"
      ]
     },
     "execution_count": 39,
     "metadata": {},
     "output_type": "execute_result"
    }
   ],
   "source": [
    "df.sort_values('etod_zone', ascending=False).iloc[:20]['stop_name']"
   ]
  },
  {
   "cell_type": "code",
   "execution_count": 92,
   "metadata": {},
   "outputs": [],
   "source": [
    "df.to_file('final_station_info2.geojson')"
   ]
  },
  {
   "cell_type": "code",
   "execution_count": null,
   "metadata": {},
   "outputs": [],
   "source": []
  }
 ],
 "metadata": {
  "kernelspec": {
   "display_name": "base",
   "language": "python",
   "name": "python3"
  },
  "language_info": {
   "codemirror_mode": {
    "name": "ipython",
    "version": 3
   },
   "file_extension": ".py",
   "mimetype": "text/x-python",
   "name": "python",
   "nbconvert_exporter": "python",
   "pygments_lexer": "ipython3",
   "version": "3.8.8"
  }
 },
 "nbformat": 4,
 "nbformat_minor": 2
}
